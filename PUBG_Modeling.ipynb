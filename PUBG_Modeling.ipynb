{
  "cells": [
    {
      "cell_type": "markdown",
      "metadata": {
        "id": "view-in-github",
        "colab_type": "text"
      },
      "source": [
        "<a href=\"https://colab.research.google.com/github/Wonjae98/PUBG_analysis/blob/main/PUBG_Modeling.ipynb\" target=\"_parent\"><img src=\"https://colab.research.google.com/assets/colab-badge.svg\" alt=\"Open In Colab\"/></a>"
      ]
    },
    {
      "cell_type": "code",
      "execution_count": null,
      "id": "3bc2b9bd",
      "metadata": {
        "id": "3bc2b9bd"
      },
      "outputs": [],
      "source": [
        "import pandas as pd\n",
        "import numpy as np\n",
        "from matplotlib import pyplot as plt\n",
        "import seaborn as sns\n",
        "%matplotlib inline\n",
        "import plotly.express as px\n",
        "import plotly.graph_objects as go\n",
        "import time\n",
        "\n",
        "from sklearn.decomposition import PCA\n",
        "from sklearn.preprocessing import StandardScaler\n",
        "from sklearn.model_selection import train_test_split, GridSearchCV\n",
        "from sklearn.linear_model import Ridge\n",
        "from sklearn.linear_model import Lasso\n",
        "from sklearn.metrics import mean_squared_error, r2_score\n",
        "from sklearn.ensemble import RandomForestRegressor\n",
        "import xgboost as xgb\n",
        "\n",
        "from sklearn.model_selection import train_test_split, GridSearchCV, cross_val_score, KFold\n",
        "from sklearn.metrics import mean_squared_error, mean_absolute_error, r2_score\n"
      ]
    },
    {
      "cell_type": "code",
      "execution_count": null,
      "id": "817a4a6c",
      "metadata": {
        "id": "817a4a6c"
      },
      "outputs": [],
      "source": [
        "data = pd.read_csv(\"final_dff.csv\")"
      ]
    },
    {
      "cell_type": "code",
      "execution_count": null,
      "id": "151532eb",
      "metadata": {
        "scrolled": true,
        "id": "151532eb",
        "outputId": "d57c1cbf-7d3e-42da-c2a6-b7b20b00d84f"
      },
      "outputs": [
        {
          "name": "stdout",
          "output_type": "stream",
          "text": [
            "<class 'pandas.core.frame.DataFrame'>\n",
            "RangeIndex: 3503000 entries, 0 to 3502999\n",
            "Data columns (total 31 columns):\n",
            " #   Column           Dtype  \n",
            "---  ------           -----  \n",
            " 0   Unnamed: 0.1     int64  \n",
            " 1   Unnamed: 0       int64  \n",
            " 2   Id               object \n",
            " 3   groupId          object \n",
            " 4   matchId          object \n",
            " 5   assists          int64  \n",
            " 6   boosts           int64  \n",
            " 7   damageDealt      float64\n",
            " 8   DBNOs            int64  \n",
            " 9   headshotKills    int64  \n",
            " 10  heals            int64  \n",
            " 11  killPlace        int64  \n",
            " 12  kills            int64  \n",
            " 13  killStreaks      int64  \n",
            " 14  matchDuration    int64  \n",
            " 15  matchType        object \n",
            " 16  maxPlace         int64  \n",
            " 17  revives          int64  \n",
            " 18  rideDistance     float64\n",
            " 19  roadKills        int64  \n",
            " 20  swimDistance     float64\n",
            " 21  teamKills        int64  \n",
            " 22  vehicleDestroys  int64  \n",
            " 23  walkDistance     float64\n",
            " 24  weaponsAcquired  int64  \n",
            " 25  winPlacePerc     float64\n",
            " 26  teamWork         int64  \n",
            " 27  headshotRatio    float64\n",
            " 28  member_cnt       int64  \n",
            " 29  userCnt          int64  \n",
            " 30  killRatio        float64\n",
            "dtypes: float64(7), int64(20), object(4)\n",
            "memory usage: 828.5+ MB\n"
          ]
        }
      ],
      "source": [
        "data.info()"
      ]
    },
    {
      "cell_type": "code",
      "execution_count": null,
      "id": "728fccf8",
      "metadata": {
        "id": "728fccf8"
      },
      "outputs": [],
      "source": [
        "df = data.drop(columns = ['Unnamed: 0','Unnamed: 0.1', 'Id', 'groupId', 'matchId'])"
      ]
    },
    {
      "cell_type": "code",
      "execution_count": null,
      "id": "975d64a1",
      "metadata": {
        "id": "975d64a1",
        "outputId": "474d8d4b-9f23-4921-bbaf-d50ad1224e0a"
      },
      "outputs": [
        {
          "name": "stdout",
          "output_type": "stream",
          "text": [
            "Fitting 3 folds for each of 5 candidates, totalling 15 fits\n"
          ]
        },
        {
          "name": "stderr",
          "output_type": "stream",
          "text": [
            "<ipython-input-10-92142e9c7709>:26: SettingWithCopyWarning: \n",
            "A value is trying to be set on a copy of a slice from a DataFrame.\n",
            "Try using .loc[row_indexer,col_indexer] = value instead\n",
            "\n",
            "See the caveats in the documentation: https://pandas.pydata.org/pandas-docs/stable/user_guide/indexing.html#returning-a-view-versus-a-copy\n",
            "  df_duo['Predicted_winPlacePerc'] = best_lasso.predict(X)\n"
          ]
        },
        {
          "data": {
            "text/html": [
              "<div>\n",
              "<style scoped>\n",
              "    .dataframe tbody tr th:only-of-type {\n",
              "        vertical-align: middle;\n",
              "    }\n",
              "\n",
              "    .dataframe tbody tr th {\n",
              "        vertical-align: top;\n",
              "    }\n",
              "\n",
              "    .dataframe thead th {\n",
              "        text-align: right;\n",
              "    }\n",
              "</style>\n",
              "<table border=\"1\" class=\"dataframe\">\n",
              "  <thead>\n",
              "    <tr style=\"text-align: right;\">\n",
              "      <th></th>\n",
              "      <th>MSE</th>\n",
              "      <th>MAE</th>\n",
              "      <th>RMSE</th>\n",
              "      <th>R-squared</th>\n",
              "      <th>Adjusted R-squared</th>\n",
              "      <th>Best Params</th>\n",
              "      <th>Execution Time (s)</th>\n",
              "    </tr>\n",
              "  </thead>\n",
              "  <tbody>\n",
              "    <tr>\n",
              "      <th>0</th>\n",
              "      <td>0.01297</td>\n",
              "      <td>0.085242</td>\n",
              "      <td>0.113886</td>\n",
              "      <td>0.849288</td>\n",
              "      <td>0.849272</td>\n",
              "      <td>{'alpha': 0.01}</td>\n",
              "      <td>19.648429</td>\n",
              "    </tr>\n",
              "  </tbody>\n",
              "</table>\n",
              "</div>"
            ],
            "text/plain": [
              "       MSE       MAE      RMSE  R-squared  Adjusted R-squared  \\\n",
              "0  0.01297  0.085242  0.113886   0.849288            0.849272   \n",
              "\n",
              "       Best Params  Execution Time (s)  \n",
              "0  {'alpha': 0.01}           19.648429  "
            ]
          },
          "execution_count": 10,
          "metadata": {},
          "output_type": "execute_result"
        }
      ],
      "source": [
        "# 데이터 필터링\n",
        "df_duo = df[df['matchType'] == 'duo']\n",
        "\n",
        "# 특성과 타겟 변수 분리\n",
        "X = df_duo.drop(columns=['winPlacePerc', 'matchType'])\n",
        "y = df_duo['winPlacePerc']\n",
        "\n",
        "# 데이터 분할\n",
        "X_train, X_test, y_train, y_test = train_test_split(X, y, test_size=0.2)\n",
        "\n",
        "# 라쏘 회귀 모델 설정 및 하이퍼파라미터 그리드 서치\n",
        "lasso = Lasso(random_state=42)\n",
        "parameters = {\n",
        "    'alpha': [0.01, 0.1, 1, 10, 100]  # 라쏘 회귀의 규제 강도 하이퍼파라미터\n",
        "}\n",
        "\n",
        "# 코드 실행 시간 측정 시작\n",
        "start_time = time.time()\n",
        "\n",
        "grid_search = GridSearchCV(lasso, parameters, cv=3, scoring='neg_mean_squared_error', n_jobs=-1, verbose=2)\n",
        "grid_search.fit(X_train, y_train)\n",
        "\n",
        "best_lasso = grid_search.best_estimator_\n",
        "\n",
        "# 전체 데이터에 대해 예측 수행\n",
        "df_duo['Predicted_winPlacePerc'] = best_lasso.predict(X)\n",
        "\n",
        "# 성능 지표 계산\n",
        "y_pred = best_lasso.predict(X_test)\n",
        "mse = mean_squared_error(y_test, y_pred)\n",
        "mae = mean_absolute_error(y_test, y_pred)\n",
        "rmse = mean_squared_error(y_test, y_pred, squared=False)\n",
        "r2 = r2_score(y_test, y_pred)\n",
        "adj_r2 = 1 - (1-r2) * (len(y_test) - 1) / (len(y_test) - X_test.shape[1] - 1)\n",
        "\n",
        "# 코드 실행 시간 측정 종료\n",
        "end_time = time.time()\n",
        "execution_time = end_time - start_time\n",
        "\n",
        "results_duo_lasso = {\n",
        "    'MSE': mse,\n",
        "    'MAE': mae,\n",
        "    'RMSE': rmse,\n",
        "    'R-squared': r2,\n",
        "    'Adjusted R-squared': adj_r2,\n",
        "    'Best Params': grid_search.best_params_,\n",
        "    'Execution Time (s)': execution_time\n",
        "}\n",
        "\n",
        "# 제외된 변수 확인\n",
        "excluded_variables = X.columns[(best_lasso.coef_ == 0)].tolist()\n",
        "\n",
        "# 결과 출력\n",
        "results_duo_lasso_df = pd.DataFrame([results_duo_lasso])\n",
        "results_duo_lasso_df"
      ]
    },
    {
      "cell_type": "code",
      "execution_count": null,
      "id": "39628827",
      "metadata": {
        "id": "39628827",
        "outputId": "6af84a57-39b1-469b-a10d-ce3e38bb18d9"
      },
      "outputs": [
        {
          "name": "stdout",
          "output_type": "stream",
          "text": [
            "Fitting 3 folds for each of 5 candidates, totalling 15 fits\n"
          ]
        },
        {
          "name": "stderr",
          "output_type": "stream",
          "text": [
            "<ipython-input-11-7aeb1a2588e5>:24: SettingWithCopyWarning: \n",
            "A value is trying to be set on a copy of a slice from a DataFrame.\n",
            "Try using .loc[row_indexer,col_indexer] = value instead\n",
            "\n",
            "See the caveats in the documentation: https://pandas.pydata.org/pandas-docs/stable/user_guide/indexing.html#returning-a-view-versus-a-copy\n",
            "  df_duo['Predicted_winPlacePerc'] = best_ridge.predict(X)\n"
          ]
        },
        {
          "data": {
            "text/html": [
              "<div>\n",
              "<style scoped>\n",
              "    .dataframe tbody tr th:only-of-type {\n",
              "        vertical-align: middle;\n",
              "    }\n",
              "\n",
              "    .dataframe tbody tr th {\n",
              "        vertical-align: top;\n",
              "    }\n",
              "\n",
              "    .dataframe thead th {\n",
              "        text-align: right;\n",
              "    }\n",
              "</style>\n",
              "<table border=\"1\" class=\"dataframe\">\n",
              "  <thead>\n",
              "    <tr style=\"text-align: right;\">\n",
              "      <th></th>\n",
              "      <th>MSE</th>\n",
              "      <th>MAE</th>\n",
              "      <th>RMSE</th>\n",
              "      <th>R-squared</th>\n",
              "      <th>Adjusted R-squared</th>\n",
              "      <th>Best Params</th>\n",
              "      <th>Execution Time (s)</th>\n",
              "    </tr>\n",
              "  </thead>\n",
              "  <tbody>\n",
              "    <tr>\n",
              "      <th>0</th>\n",
              "      <td>0.011573</td>\n",
              "      <td>0.079286</td>\n",
              "      <td>0.107577</td>\n",
              "      <td>0.865524</td>\n",
              "      <td>0.86551</td>\n",
              "      <td>{'alpha': 0.1}</td>\n",
              "      <td>8.25386</td>\n",
              "    </tr>\n",
              "  </tbody>\n",
              "</table>\n",
              "</div>"
            ],
            "text/plain": [
              "        MSE       MAE      RMSE  R-squared  Adjusted R-squared  \\\n",
              "0  0.011573  0.079286  0.107577   0.865524             0.86551   \n",
              "\n",
              "      Best Params  Execution Time (s)  \n",
              "0  {'alpha': 0.1}             8.25386  "
            ]
          },
          "execution_count": 11,
          "metadata": {},
          "output_type": "execute_result"
        }
      ],
      "source": [
        "import pandas as pd\n",
        "import time\n",
        "from sklearn.model_selection import train_test_split, GridSearchCV\n",
        "from sklearn.metrics import mean_squared_error, mean_absolute_error, r2_score\n",
        "from sklearn.linear_model import Ridge\n",
        "import matplotlib.pyplot as plt\n",
        "import numpy as np\n",
        "\n",
        "# 리지 회귀 모델 설정 및 하이퍼파라미터 그리드 서치\n",
        "ridge = Ridge(random_state=42)\n",
        "parameters = {\n",
        "    'alpha': [0.01, 0.1, 1, 10, 100]  # 리지 회귀의 규제 강도 하이퍼파라미터\n",
        "}\n",
        "\n",
        "# 코드 실행 시간 측정 시작\n",
        "start_time = time.time()\n",
        "\n",
        "grid_search = GridSearchCV(ridge, parameters, cv=3, scoring='neg_mean_squared_error', n_jobs=-1, verbose=2)\n",
        "grid_search.fit(X_train, y_train)\n",
        "\n",
        "best_ridge = grid_search.best_estimator_\n",
        "\n",
        "# 전체 데이터에 대해 예측 수행\n",
        "df_duo['Predicted_winPlacePerc'] = best_ridge.predict(X)\n",
        "\n",
        "# 성능 지표 계산\n",
        "y_pred = best_ridge.predict(X_test)\n",
        "mse = mean_squared_error(y_test, y_pred)\n",
        "mae = mean_absolute_error(y_test, y_pred)\n",
        "rmse = mean_squared_error(y_test, y_pred, squared=False)\n",
        "r2 = r2_score(y_test, y_pred)\n",
        "adj_r2 = 1 - (1-r2) * (len(y_test) - 1) / (len(y_test) - X_test.shape[1] - 1)\n",
        "\n",
        "# 코드 실행 시간 측정 종료\n",
        "end_time = time.time()\n",
        "execution_time = end_time - start_time\n",
        "\n",
        "results_duo_ridge = {\n",
        "    'MSE': mse,\n",
        "    'MAE': mae,\n",
        "    'RMSE': rmse,\n",
        "    'R-squared': r2,\n",
        "    'Adjusted R-squared': adj_r2,\n",
        "    'Best Params': grid_search.best_params_,\n",
        "    'Execution Time (s)': execution_time\n",
        "}\n",
        "\n",
        "# 결과 출력\n",
        "results_duo_ridge_df = pd.DataFrame([results_duo_ridge])\n",
        "results_duo_ridge_df"
      ]
    },
    {
      "cell_type": "code",
      "execution_count": null,
      "id": "23261937",
      "metadata": {
        "id": "23261937",
        "outputId": "ad765ac3-1603-45f1-fd9c-86bf91759128"
      },
      "outputs": [
        {
          "name": "stdout",
          "output_type": "stream",
          "text": [
            "Fitting 3 folds for each of 72 candidates, totalling 216 fits\n"
          ]
        },
        {
          "name": "stderr",
          "output_type": "stream",
          "text": [
            "<ipython-input-12-f0909b347654>:27: SettingWithCopyWarning: \n",
            "A value is trying to be set on a copy of a slice from a DataFrame.\n",
            "Try using .loc[row_indexer,col_indexer] = value instead\n",
            "\n",
            "See the caveats in the documentation: https://pandas.pydata.org/pandas-docs/stable/user_guide/indexing.html#returning-a-view-versus-a-copy\n",
            "  df_duo['Predicted_winPlacePerc'] = best_xgb.predict(X)\n"
          ]
        },
        {
          "name": "stdout",
          "output_type": "stream",
          "text": [
            "        MSE      MAE      RMSE  R-squared  Adjusted R-squared  \\\n",
            "0  0.004501  0.04882  0.067092   0.947694            0.947689   \n",
            "\n",
            "                                         Best Params  Execution Time (s)  \n",
            "0  {'colsample_bytree': 0.8, 'learning_rate': 0.2...         6214.540134  \n"
          ]
        }
      ],
      "source": [
        "xg_reg = xgb.XGBRegressor(objective='reg:squarederror', random_state=42)\n",
        "parameters = {\n",
        "    'n_estimators': [100, 200],\n",
        "    'max_depth': [10, 20, None],\n",
        "    'learning_rate': [0.01, 0.1, 0.2],\n",
        "    'subsample': [0.8, 1.0],\n",
        "    'colsample_bytree': [0.8, 1.0]\n",
        "}\n",
        "\n",
        "# 코드 실행 시간 측정 시작\n",
        "start_time = time.time()\n",
        "\n",
        "grid_search = GridSearchCV(xg_reg, parameters, cv=3, scoring='neg_mean_squared_error', n_jobs=-1, verbose=2)\n",
        "grid_search.fit(X_train, y_train)\n",
        "\n",
        "best_xgb = grid_search.best_estimator_\n",
        "\n",
        "# 전체 데이터에 대해 예측 수행\n",
        "df_duo['Predicted_winPlacePerc'] = best_xgb.predict(X)\n",
        "\n",
        "# 성능 지표 계산\n",
        "y_pred = best_xgb.predict(X_test)\n",
        "mse = mean_squared_error(y_test, y_pred)\n",
        "mae = mean_absolute_error(y_test, y_pred)\n",
        "rmse = mean_squared_error(y_test, y_pred, squared=False)\n",
        "r2 = r2_score(y_test, y_pred)\n",
        "adj_r2 = 1 - (1-r2) * (len(y_test) - 1) / (len(y_test) - X_test.shape[1] - 1)\n",
        "\n",
        "# 코드 실행 시간 측정 종료\n",
        "end_time = time.time()\n",
        "execution_time = end_time - start_time\n",
        "\n",
        "results_duo_xgb = {\n",
        "    'MSE': mse,\n",
        "    'MAE': mae,\n",
        "    'RMSE': rmse,\n",
        "    'R-squared': r2,\n",
        "    'Adjusted R-squared': adj_r2,\n",
        "    'Best Params': grid_search.best_params_,\n",
        "    'Execution Time (s)': execution_time\n",
        "}\n",
        "\n",
        "# 결과 출력\n",
        "results_duo_xgb_df = pd.DataFrame([results_duo_xgb])\n",
        "print(results_duo_xgb_df)"
      ]
    },
    {
      "cell_type": "code",
      "execution_count": null,
      "id": "6258920c",
      "metadata": {
        "id": "6258920c",
        "outputId": "25b8c5fa-dc4f-42a8-8784-0211adc90e69"
      },
      "outputs": [
        {
          "name": "stdout",
          "output_type": "stream",
          "text": [
            "Fitting 3 folds for each of 72 candidates, totalling 216 fits\n"
          ]
        },
        {
          "name": "stderr",
          "output_type": "stream",
          "text": [
            "<ipython-input-13-24fd4a78b577>:20: SettingWithCopyWarning: \n",
            "A value is trying to be set on a copy of a slice from a DataFrame.\n",
            "Try using .loc[row_indexer,col_indexer] = value instead\n",
            "\n",
            "See the caveats in the documentation: https://pandas.pydata.org/pandas-docs/stable/user_guide/indexing.html#returning-a-view-versus-a-copy\n",
            "  df_duo['Predicted_winPlacePerc'] = best_rf.predict(X)\n"
          ]
        },
        {
          "name": "stdout",
          "output_type": "stream",
          "text": [
            "        MSE       MAE     RMSE  R-squared  Adjusted R-squared  \\\n",
            "0  0.004938  0.051292  0.07027   0.942622            0.942616   \n",
            "\n",
            "                                         Best Params  Execution Time (s)  \n",
            "0  {'max_depth': 20, 'max_features': 'auto', 'min...        16894.575011  \n"
          ]
        }
      ],
      "source": [
        "# Random Forest 회귀 모델 설정 및 하이퍼파라미터 그리드 서치\n",
        "rf = RandomForestRegressor(random_state=42)\n",
        "parameters = {\n",
        "    'n_estimators': [100, 200],\n",
        "    'max_depth': [10, 20, None],\n",
        "    'min_samples_split': [2, 5],\n",
        "    'min_samples_leaf': [1, 2, 4],\n",
        "    'max_features': ['auto', 'sqrt']\n",
        "}\n",
        "\n",
        "# 코드 실행 시간 측정 시작\n",
        "start_time = time.time()\n",
        "\n",
        "grid_search = GridSearchCV(rf, parameters, cv=3, scoring='neg_mean_squared_error', n_jobs=-1, verbose=2)\n",
        "grid_search.fit(X_train, y_train)\n",
        "\n",
        "best_rf = grid_search.best_estimator_\n",
        "\n",
        "# 전체 데이터에 대해 예측 수행\n",
        "df_duo['Predicted_winPlacePerc'] = best_rf.predict(X)\n",
        "\n",
        "# 성능 지표 계산\n",
        "y_pred = best_rf.predict(X_test)\n",
        "mse = mean_squared_error(y_test, y_pred)\n",
        "mae = mean_absolute_error(y_test, y_pred)\n",
        "rmse = mean_squared_error(y_test, y_pred, squared=False)\n",
        "r2 = r2_score(y_test, y_pred)\n",
        "adj_r2 = 1 - (1-r2) * (len(y_test) - 1) / (len(y_test) - X_test.shape[1] - 1)\n",
        "\n",
        "# 코드 실행 시간 측정 종료\n",
        "end_time = time.time()\n",
        "execution_time = end_time - start_time\n",
        "\n",
        "results_duo_rf = {\n",
        "    'MSE': mse,\n",
        "    'MAE': mae,\n",
        "    'RMSE': rmse,\n",
        "    'R-squared': r2,\n",
        "    'Adjusted R-squared': adj_r2,\n",
        "    'Best Params': grid_search.best_params_,\n",
        "    'Execution Time (s)': execution_time\n",
        "}\n",
        "\n",
        "# 결과 출력\n",
        "results_duo_rf_df = pd.DataFrame([results_duo_rf])\n",
        "print(results_duo_rf_df)"
      ]
    },
    {
      "cell_type": "code",
      "execution_count": null,
      "id": "a223bb5b",
      "metadata": {
        "id": "a223bb5b"
      },
      "outputs": [],
      "source": [
        "## solo"
      ]
    },
    {
      "cell_type": "code",
      "execution_count": null,
      "id": "314ee87a",
      "metadata": {
        "id": "314ee87a",
        "outputId": "f51f1f33-9486-4b33-a38f-6299ddad9a99"
      },
      "outputs": [
        {
          "name": "stdout",
          "output_type": "stream",
          "text": [
            "Fitting 3 folds for each of 5 candidates, totalling 15 fits\n"
          ]
        },
        {
          "name": "stderr",
          "output_type": "stream",
          "text": [
            "<ipython-input-15-a15a03a98290>:26: SettingWithCopyWarning: \n",
            "A value is trying to be set on a copy of a slice from a DataFrame.\n",
            "Try using .loc[row_indexer,col_indexer] = value instead\n",
            "\n",
            "See the caveats in the documentation: https://pandas.pydata.org/pandas-docs/stable/user_guide/indexing.html#returning-a-view-versus-a-copy\n",
            "  df_solo['Predicted_winPlacePerc'] = best_lasso.predict(X)\n"
          ]
        },
        {
          "data": {
            "text/html": [
              "<div>\n",
              "<style scoped>\n",
              "    .dataframe tbody tr th:only-of-type {\n",
              "        vertical-align: middle;\n",
              "    }\n",
              "\n",
              "    .dataframe tbody tr th {\n",
              "        vertical-align: top;\n",
              "    }\n",
              "\n",
              "    .dataframe thead th {\n",
              "        text-align: right;\n",
              "    }\n",
              "</style>\n",
              "<table border=\"1\" class=\"dataframe\">\n",
              "  <thead>\n",
              "    <tr style=\"text-align: right;\">\n",
              "      <th></th>\n",
              "      <th>MSE</th>\n",
              "      <th>MAE</th>\n",
              "      <th>RMSE</th>\n",
              "      <th>R-squared</th>\n",
              "      <th>Adjusted R-squared</th>\n",
              "      <th>Best Params</th>\n",
              "      <th>Execution Time (s)</th>\n",
              "    </tr>\n",
              "  </thead>\n",
              "  <tbody>\n",
              "    <tr>\n",
              "      <th>0</th>\n",
              "      <td>0.010832</td>\n",
              "      <td>0.079101</td>\n",
              "      <td>0.104078</td>\n",
              "      <td>0.872638</td>\n",
              "      <td>0.872615</td>\n",
              "      <td>{'alpha': 0.01}</td>\n",
              "      <td>11.324552</td>\n",
              "    </tr>\n",
              "  </tbody>\n",
              "</table>\n",
              "</div>"
            ],
            "text/plain": [
              "        MSE       MAE      RMSE  R-squared  Adjusted R-squared  \\\n",
              "0  0.010832  0.079101  0.104078   0.872638            0.872615   \n",
              "\n",
              "       Best Params  Execution Time (s)  \n",
              "0  {'alpha': 0.01}           11.324552  "
            ]
          },
          "execution_count": 15,
          "metadata": {},
          "output_type": "execute_result"
        }
      ],
      "source": [
        "# 데이터 필터링\n",
        "df_solo = df[df['matchType'] == 'solo']\n",
        "\n",
        "# 특성과 타겟 변수 분리\n",
        "X = df_solo.drop(columns=['winPlacePerc', 'matchType'])\n",
        "y = df_solo['winPlacePerc']\n",
        "\n",
        "# 데이터 분할\n",
        "X_train, X_test, y_train, y_test = train_test_split(X, y, test_size=0.2)\n",
        "\n",
        "# 라쏘 회귀 모델 설정 및 하이퍼파라미터 그리드 서치\n",
        "lasso = Lasso(random_state=42)\n",
        "parameters = {\n",
        "    'alpha': [0.01, 0.1, 1, 10, 100]  # 라쏘 회귀의 규제 강도 하이퍼파라미터\n",
        "}\n",
        "\n",
        "# 코드 실행 시간 측정 시작\n",
        "start_time = time.time()\n",
        "\n",
        "grid_search = GridSearchCV(lasso, parameters, cv=3, scoring='neg_mean_squared_error', n_jobs=-1, verbose=2)\n",
        "grid_search.fit(X_train, y_train)\n",
        "\n",
        "best_lasso = grid_search.best_estimator_\n",
        "\n",
        "# 전체 데이터에 대해 예측 수행\n",
        "df_solo['Predicted_winPlacePerc'] = best_lasso.predict(X)\n",
        "\n",
        "# 성능 지표 계산\n",
        "y_pred = best_lasso.predict(X_test)\n",
        "mse = mean_squared_error(y_test, y_pred)\n",
        "mae = mean_absolute_error(y_test, y_pred)\n",
        "rmse = mean_squared_error(y_test, y_pred, squared=False)\n",
        "r2 = r2_score(y_test, y_pred)\n",
        "adj_r2 = 1 - (1-r2) * (len(y_test) - 1) / (len(y_test) - X_test.shape[1] - 1)\n",
        "\n",
        "# 코드 실행 시간 측정 종료\n",
        "end_time = time.time()\n",
        "execution_time = end_time - start_time\n",
        "\n",
        "results_solo_lasso = {\n",
        "    'MSE': mse,\n",
        "    'MAE': mae,\n",
        "    'RMSE': rmse,\n",
        "    'R-squared': r2,\n",
        "    'Adjusted R-squared': adj_r2,\n",
        "    'Best Params': grid_search.best_params_,\n",
        "    'Execution Time (s)': execution_time\n",
        "}\n",
        "\n",
        "# 제외된 변수 확인\n",
        "excluded_variables = X.columns[(best_lasso.coef_ == 0)].tolist()\n",
        "\n",
        "# 결과 출력\n",
        "results_solo_lasso_df = pd.DataFrame([results_solo_lasso])\n",
        "results_solo_lasso_df"
      ]
    },
    {
      "cell_type": "code",
      "execution_count": null,
      "id": "f76b4922",
      "metadata": {
        "id": "f76b4922",
        "outputId": "2ac94d15-84d4-4e42-9d73-67f793b5bc3a"
      },
      "outputs": [
        {
          "name": "stdout",
          "output_type": "stream",
          "text": [
            "Fitting 3 folds for each of 5 candidates, totalling 15 fits\n"
          ]
        },
        {
          "name": "stderr",
          "output_type": "stream",
          "text": [
            "<ipython-input-16-a34020a95236>:24: SettingWithCopyWarning: \n",
            "A value is trying to be set on a copy of a slice from a DataFrame.\n",
            "Try using .loc[row_indexer,col_indexer] = value instead\n",
            "\n",
            "See the caveats in the documentation: https://pandas.pydata.org/pandas-docs/stable/user_guide/indexing.html#returning-a-view-versus-a-copy\n",
            "  df_solo['Predicted_winPlacePerc'] = best_ridge.predict(X)\n"
          ]
        },
        {
          "data": {
            "text/html": [
              "<div>\n",
              "<style scoped>\n",
              "    .dataframe tbody tr th:only-of-type {\n",
              "        vertical-align: middle;\n",
              "    }\n",
              "\n",
              "    .dataframe tbody tr th {\n",
              "        vertical-align: top;\n",
              "    }\n",
              "\n",
              "    .dataframe thead th {\n",
              "        text-align: right;\n",
              "    }\n",
              "</style>\n",
              "<table border=\"1\" class=\"dataframe\">\n",
              "  <thead>\n",
              "    <tr style=\"text-align: right;\">\n",
              "      <th></th>\n",
              "      <th>MSE</th>\n",
              "      <th>MAE</th>\n",
              "      <th>RMSE</th>\n",
              "      <th>R-squared</th>\n",
              "      <th>Adjusted R-squared</th>\n",
              "      <th>Best Params</th>\n",
              "      <th>Execution Time (s)</th>\n",
              "    </tr>\n",
              "  </thead>\n",
              "  <tbody>\n",
              "    <tr>\n",
              "      <th>0</th>\n",
              "      <td>0.008901</td>\n",
              "      <td>0.068443</td>\n",
              "      <td>0.094345</td>\n",
              "      <td>0.895346</td>\n",
              "      <td>0.895328</td>\n",
              "      <td>{'alpha': 0.1}</td>\n",
              "      <td>1.581356</td>\n",
              "    </tr>\n",
              "  </tbody>\n",
              "</table>\n",
              "</div>"
            ],
            "text/plain": [
              "        MSE       MAE      RMSE  R-squared  Adjusted R-squared  \\\n",
              "0  0.008901  0.068443  0.094345   0.895346            0.895328   \n",
              "\n",
              "      Best Params  Execution Time (s)  \n",
              "0  {'alpha': 0.1}            1.581356  "
            ]
          },
          "execution_count": 16,
          "metadata": {},
          "output_type": "execute_result"
        }
      ],
      "source": [
        "# 리지 회귀 모델 설정 및 하이퍼파라미터 그리드 서치\n",
        "ridge = Ridge(random_state=42)\n",
        "parameters = {\n",
        "    'alpha': [0.01, 0.1, 1, 10, 100]  # 리지 회귀의 규제 강도 하이퍼파라미터\n",
        "}\n",
        "\n",
        "# 코드 실행 시간 측정 시작\n",
        "start_time = time.time()\n",
        "\n",
        "grid_search = GridSearchCV(ridge, parameters, cv=3, scoring='neg_mean_squared_error', n_jobs=-1, verbose=2)\n",
        "grid_search.fit(X_train, y_train)\n",
        "\n",
        "best_ridge = grid_search.best_estimator_\n",
        "\n",
        "# 전체 데이터에 대해 예측 수행\n",
        "df_solo['Predicted_winPlacePerc'] = best_ridge.predict(X)\n",
        "\n",
        "# 성능 지표 계산\n",
        "y_pred = best_ridge.predict(X_test)\n",
        "mse = mean_squared_error(y_test, y_pred)\n",
        "mae = mean_absolute_error(y_test, y_pred)\n",
        "rmse = mean_squared_error(y_test, y_pred, squared=False)\n",
        "r2 = r2_score(y_test, y_pred)\n",
        "adj_r2 = 1 - (1-r2) * (len(y_test) - 1) / (len(y_test) - X_test.shape[1] - 1)\n",
        "\n",
        "# 코드 실행 시간 측정 종료\n",
        "end_time = time.time()\n",
        "execution_time = end_time - start_time\n",
        "\n",
        "results_solo_ridge = {\n",
        "    'MSE': mse,\n",
        "    'MAE': mae,\n",
        "    'RMSE': rmse,\n",
        "    'R-squared': r2,\n",
        "    'Adjusted R-squared': adj_r2,\n",
        "    'Best Params': grid_search.best_params_,\n",
        "    'Execution Time (s)': execution_time\n",
        "}\n",
        "\n",
        "# 결과 출력\n",
        "results_solo_ridge_df = pd.DataFrame([results_solo_ridge])\n",
        "results_solo_ridge_df"
      ]
    },
    {
      "cell_type": "code",
      "execution_count": null,
      "id": "6859f82b",
      "metadata": {
        "id": "6859f82b",
        "outputId": "f284cc01-4725-479f-a3e7-e8ffed9840f5"
      },
      "outputs": [
        {
          "name": "stdout",
          "output_type": "stream",
          "text": [
            "Fitting 3 folds for each of 72 candidates, totalling 216 fits\n"
          ]
        },
        {
          "name": "stderr",
          "output_type": "stream",
          "text": [
            "<ipython-input-17-57a1029aae1d>:27: SettingWithCopyWarning: \n",
            "A value is trying to be set on a copy of a slice from a DataFrame.\n",
            "Try using .loc[row_indexer,col_indexer] = value instead\n",
            "\n",
            "See the caveats in the documentation: https://pandas.pydata.org/pandas-docs/stable/user_guide/indexing.html#returning-a-view-versus-a-copy\n",
            "  df_solo['Predicted_winPlacePerc'] = best_xgb.predict(X)\n"
          ]
        },
        {
          "data": {
            "text/html": [
              "<div>\n",
              "<style scoped>\n",
              "    .dataframe tbody tr th:only-of-type {\n",
              "        vertical-align: middle;\n",
              "    }\n",
              "\n",
              "    .dataframe tbody tr th {\n",
              "        vertical-align: top;\n",
              "    }\n",
              "\n",
              "    .dataframe thead th {\n",
              "        text-align: right;\n",
              "    }\n",
              "</style>\n",
              "<table border=\"1\" class=\"dataframe\">\n",
              "  <thead>\n",
              "    <tr style=\"text-align: right;\">\n",
              "      <th></th>\n",
              "      <th>MSE</th>\n",
              "      <th>MAE</th>\n",
              "      <th>RMSE</th>\n",
              "      <th>R-squared</th>\n",
              "      <th>Adjusted R-squared</th>\n",
              "      <th>Best Params</th>\n",
              "      <th>Execution Time (s)</th>\n",
              "    </tr>\n",
              "  </thead>\n",
              "  <tbody>\n",
              "    <tr>\n",
              "      <th>0</th>\n",
              "      <td>0.003109</td>\n",
              "      <td>0.039795</td>\n",
              "      <td>0.055757</td>\n",
              "      <td>0.963447</td>\n",
              "      <td>0.963441</td>\n",
              "      <td>{'colsample_bytree': 0.8, 'learning_rate': 0.1...</td>\n",
              "      <td>4298.071512</td>\n",
              "    </tr>\n",
              "  </tbody>\n",
              "</table>\n",
              "</div>"
            ],
            "text/plain": [
              "        MSE       MAE      RMSE  R-squared  Adjusted R-squared  \\\n",
              "0  0.003109  0.039795  0.055757   0.963447            0.963441   \n",
              "\n",
              "                                         Best Params  Execution Time (s)  \n",
              "0  {'colsample_bytree': 0.8, 'learning_rate': 0.1...         4298.071512  "
            ]
          },
          "execution_count": 17,
          "metadata": {},
          "output_type": "execute_result"
        }
      ],
      "source": [
        "xg_reg = xgb.XGBRegressor(objective='reg:squarederror', random_state=42)\n",
        "parameters = {\n",
        "    'n_estimators': [100, 200],\n",
        "    'max_depth': [10, 20, None],\n",
        "    'learning_rate': [0.01, 0.1, 0.2],\n",
        "    'subsample': [0.8, 1.0],\n",
        "    'colsample_bytree': [0.8, 1.0]\n",
        "}\n",
        "\n",
        "# 코드 실행 시간 측정 시작\n",
        "start_time = time.time()\n",
        "\n",
        "grid_search = GridSearchCV(xg_reg, parameters, cv=3, scoring='neg_mean_squared_error', n_jobs=-1, verbose=2)\n",
        "grid_search.fit(X_train, y_train)\n",
        "\n",
        "best_xgb = grid_search.best_estimator_\n",
        "\n",
        "# 전체 데이터에 대해 예측 수행\n",
        "df_solo['Predicted_winPlacePerc'] = best_xgb.predict(X)\n",
        "\n",
        "# 성능 지표 계산\n",
        "y_pred = best_xgb.predict(X_test)\n",
        "mse = mean_squared_error(y_test, y_pred)\n",
        "mae = mean_absolute_error(y_test, y_pred)\n",
        "rmse = mean_squared_error(y_test, y_pred, squared=False)\n",
        "r2 = r2_score(y_test, y_pred)\n",
        "adj_r2 = 1 - (1-r2) * (len(y_test) - 1) / (len(y_test) - X_test.shape[1] - 1)\n",
        "\n",
        "# 코드 실행 시간 측정 종료\n",
        "end_time = time.time()\n",
        "execution_time = end_time - start_time\n",
        "\n",
        "results_solo_xgb = {\n",
        "    'MSE': mse,\n",
        "    'MAE': mae,\n",
        "    'RMSE': rmse,\n",
        "    'R-squared': r2,\n",
        "    'Adjusted R-squared': adj_r2,\n",
        "    'Best Params': grid_search.best_params_,\n",
        "    'Execution Time (s)': execution_time\n",
        "}\n",
        "\n",
        "# 결과 출력\n",
        "results_solo_xgb_df = pd.DataFrame([results_solo_xgb])\n",
        "results_solo_xgb_df"
      ]
    },
    {
      "cell_type": "code",
      "execution_count": null,
      "id": "d7797119",
      "metadata": {
        "id": "d7797119",
        "outputId": "39aad082-656f-4eca-fefe-b4aa88af7aff"
      },
      "outputs": [
        {
          "name": "stdout",
          "output_type": "stream",
          "text": [
            "Fitting 3 folds for each of 72 candidates, totalling 216 fits\n"
          ]
        },
        {
          "name": "stderr",
          "output_type": "stream",
          "text": [
            "<ipython-input-18-0c4504c150a7>:20: SettingWithCopyWarning: \n",
            "A value is trying to be set on a copy of a slice from a DataFrame.\n",
            "Try using .loc[row_indexer,col_indexer] = value instead\n",
            "\n",
            "See the caveats in the documentation: https://pandas.pydata.org/pandas-docs/stable/user_guide/indexing.html#returning-a-view-versus-a-copy\n",
            "  df_solo['Predicted_winPlacePerc'] = best_rf.predict(X)\n"
          ]
        },
        {
          "data": {
            "text/html": [
              "<div>\n",
              "<style scoped>\n",
              "    .dataframe tbody tr th:only-of-type {\n",
              "        vertical-align: middle;\n",
              "    }\n",
              "\n",
              "    .dataframe tbody tr th {\n",
              "        vertical-align: top;\n",
              "    }\n",
              "\n",
              "    .dataframe thead th {\n",
              "        text-align: right;\n",
              "    }\n",
              "</style>\n",
              "<table border=\"1\" class=\"dataframe\">\n",
              "  <thead>\n",
              "    <tr style=\"text-align: right;\">\n",
              "      <th></th>\n",
              "      <th>MSE</th>\n",
              "      <th>MAE</th>\n",
              "      <th>RMSE</th>\n",
              "      <th>R-squared</th>\n",
              "      <th>Adjusted R-squared</th>\n",
              "      <th>Best Params</th>\n",
              "      <th>Execution Time (s)</th>\n",
              "    </tr>\n",
              "  </thead>\n",
              "  <tbody>\n",
              "    <tr>\n",
              "      <th>0</th>\n",
              "      <td>0.003449</td>\n",
              "      <td>0.04189</td>\n",
              "      <td>0.058726</td>\n",
              "      <td>0.959451</td>\n",
              "      <td>0.959444</td>\n",
              "      <td>{'max_depth': 20, 'max_features': 'auto', 'min...</td>\n",
              "      <td>7576.780525</td>\n",
              "    </tr>\n",
              "  </tbody>\n",
              "</table>\n",
              "</div>"
            ],
            "text/plain": [
              "        MSE      MAE      RMSE  R-squared  Adjusted R-squared  \\\n",
              "0  0.003449  0.04189  0.058726   0.959451            0.959444   \n",
              "\n",
              "                                         Best Params  Execution Time (s)  \n",
              "0  {'max_depth': 20, 'max_features': 'auto', 'min...         7576.780525  "
            ]
          },
          "execution_count": 18,
          "metadata": {},
          "output_type": "execute_result"
        }
      ],
      "source": [
        "# Random Forest 회귀 모델 설정 및 하이퍼파라미터 그리드 서치\n",
        "rf = RandomForestRegressor(random_state=42)\n",
        "parameters = {\n",
        "    'n_estimators': [100, 200],\n",
        "    'max_depth': [10, 20, None],\n",
        "    'min_samples_split': [2, 5],\n",
        "    'min_samples_leaf': [1, 2, 4],\n",
        "    'max_features': ['auto', 'sqrt']\n",
        "}\n",
        "\n",
        "# 코드 실행 시간 측정 시작\n",
        "start_time = time.time()\n",
        "\n",
        "grid_search = GridSearchCV(rf, parameters, cv=3, scoring='neg_mean_squared_error', n_jobs=-1, verbose=2)\n",
        "grid_search.fit(X_train, y_train)\n",
        "\n",
        "best_rf = grid_search.best_estimator_\n",
        "\n",
        "# 전체 데이터에 대해 예측 수행\n",
        "df_solo['Predicted_winPlacePerc'] = best_rf.predict(X)\n",
        "\n",
        "# 성능 지표 계산\n",
        "y_pred = best_rf.predict(X_test)\n",
        "mse = mean_squared_error(y_test, y_pred)\n",
        "mae = mean_absolute_error(y_test, y_pred)\n",
        "rmse = mean_squared_error(y_test, y_pred, squared=False)\n",
        "r2 = r2_score(y_test, y_pred)\n",
        "adj_r2 = 1 - (1-r2) * (len(y_test) - 1) / (len(y_test) - X_test.shape[1] - 1)\n",
        "\n",
        "# 코드 실행 시간 측정 종료\n",
        "end_time = time.time()\n",
        "execution_time = end_time - start_time\n",
        "\n",
        "results_solo_rf = {\n",
        "    'MSE': mse,\n",
        "    'MAE': mae,\n",
        "    'RMSE': rmse,\n",
        "    'R-squared': r2,\n",
        "    'Adjusted R-squared': adj_r2,\n",
        "    'Best Params': grid_search.best_params_,\n",
        "    'Execution Time (s)': execution_time\n",
        "}\n",
        "\n",
        "# 결과 출력\n",
        "results_solo_rf_df = pd.DataFrame([results_solo_rf])\n",
        "results_solo_rf_df"
      ]
    },
    {
      "cell_type": "code",
      "execution_count": null,
      "id": "010258b4",
      "metadata": {
        "id": "010258b4"
      },
      "outputs": [],
      "source": [
        "# squad"
      ]
    },
    {
      "cell_type": "code",
      "execution_count": null,
      "id": "58aa7717",
      "metadata": {
        "id": "58aa7717",
        "outputId": "aaf5653e-4956-4bdd-b9c8-032ddb5f7c25"
      },
      "outputs": [
        {
          "name": "stdout",
          "output_type": "stream",
          "text": [
            "Fitting 3 folds for each of 5 candidates, totalling 15 fits\n"
          ]
        },
        {
          "name": "stderr",
          "output_type": "stream",
          "text": [
            "<ipython-input-20-7ef4c60a77a7>:26: SettingWithCopyWarning: \n",
            "A value is trying to be set on a copy of a slice from a DataFrame.\n",
            "Try using .loc[row_indexer,col_indexer] = value instead\n",
            "\n",
            "See the caveats in the documentation: https://pandas.pydata.org/pandas-docs/stable/user_guide/indexing.html#returning-a-view-versus-a-copy\n",
            "  df_squad['Predicted_winPlacePerc'] = best_lasso.predict(X)\n"
          ]
        },
        {
          "data": {
            "text/html": [
              "<div>\n",
              "<style scoped>\n",
              "    .dataframe tbody tr th:only-of-type {\n",
              "        vertical-align: middle;\n",
              "    }\n",
              "\n",
              "    .dataframe tbody tr th {\n",
              "        vertical-align: top;\n",
              "    }\n",
              "\n",
              "    .dataframe thead th {\n",
              "        text-align: right;\n",
              "    }\n",
              "</style>\n",
              "<table border=\"1\" class=\"dataframe\">\n",
              "  <thead>\n",
              "    <tr style=\"text-align: right;\">\n",
              "      <th></th>\n",
              "      <th>MSE</th>\n",
              "      <th>MAE</th>\n",
              "      <th>RMSE</th>\n",
              "      <th>R-squared</th>\n",
              "      <th>Adjusted R-squared</th>\n",
              "      <th>Best Params</th>\n",
              "      <th>Execution Time (s)</th>\n",
              "    </tr>\n",
              "  </thead>\n",
              "  <tbody>\n",
              "    <tr>\n",
              "      <th>0</th>\n",
              "      <td>0.019541</td>\n",
              "      <td>0.104747</td>\n",
              "      <td>0.139788</td>\n",
              "      <td>0.777501</td>\n",
              "      <td>0.777485</td>\n",
              "      <td>{'alpha': 0.01}</td>\n",
              "      <td>23.274245</td>\n",
              "    </tr>\n",
              "  </tbody>\n",
              "</table>\n",
              "</div>"
            ],
            "text/plain": [
              "        MSE       MAE      RMSE  R-squared  Adjusted R-squared  \\\n",
              "0  0.019541  0.104747  0.139788   0.777501            0.777485   \n",
              "\n",
              "       Best Params  Execution Time (s)  \n",
              "0  {'alpha': 0.01}           23.274245  "
            ]
          },
          "execution_count": 20,
          "metadata": {},
          "output_type": "execute_result"
        }
      ],
      "source": [
        "# 데이터 필터링\n",
        "df_squad = df[df['matchType'] == 'squad']\n",
        "\n",
        "# 특성과 타겟 변수 분리\n",
        "X = df_squad.drop(columns=['winPlacePerc', 'matchType'])\n",
        "y = df_squad['winPlacePerc']\n",
        "\n",
        "# 데이터 분할\n",
        "X_train, X_test, y_train, y_test = train_test_split(X, y, test_size=0.2)\n",
        "\n",
        "# 라쏘 회귀 모델 설정 및 하이퍼파라미터 그리드 서치\n",
        "lasso = Lasso(random_state=42)\n",
        "parameters = {\n",
        "    'alpha': [0.01, 0.1, 1, 10, 100]  # 라쏘 회귀의 규제 강도 하이퍼파라미터\n",
        "}\n",
        "\n",
        "# 코드 실행 시간 측정 시작\n",
        "start_time = time.time()\n",
        "\n",
        "grid_search = GridSearchCV(lasso, parameters, cv=3, scoring='neg_mean_squared_error', n_jobs=-1, verbose=2)\n",
        "grid_search.fit(X_train, y_train)\n",
        "\n",
        "best_lasso = grid_search.best_estimator_\n",
        "\n",
        "# 전체 데이터에 대해 예측 수행\n",
        "df_squad['Predicted_winPlacePerc'] = best_lasso.predict(X)\n",
        "\n",
        "# 성능 지표 계산\n",
        "y_pred = best_lasso.predict(X_test)\n",
        "mse = mean_squared_error(y_test, y_pred)\n",
        "mae = mean_absolute_error(y_test, y_pred)\n",
        "rmse = mean_squared_error(y_test, y_pred, squared=False)\n",
        "r2 = r2_score(y_test, y_pred)\n",
        "adj_r2 = 1 - (1-r2) * (len(y_test) - 1) / (len(y_test) - X_test.shape[1] - 1)\n",
        "\n",
        "# 코드 실행 시간 측정 종료\n",
        "end_time = time.time()\n",
        "execution_time = end_time - start_time\n",
        "\n",
        "results_squad_lasso = {\n",
        "    'MSE': mse,\n",
        "    'MAE': mae,\n",
        "    'RMSE': rmse,\n",
        "    'R-squared': r2,\n",
        "    'Adjusted R-squared': adj_r2,\n",
        "    'Best Params': grid_search.best_params_,\n",
        "    'Execution Time (s)': execution_time\n",
        "}\n",
        "\n",
        "# 제외된 변수 확인\n",
        "excluded_variables = X.columns[(best_lasso.coef_ == 0)].tolist()\n",
        "\n",
        "# 결과 출력\n",
        "results_squad_lasso_df = pd.DataFrame([results_squad_lasso])\n",
        "results_squad_lasso_df"
      ]
    },
    {
      "cell_type": "code",
      "execution_count": null,
      "id": "d78ce204",
      "metadata": {
        "id": "d78ce204",
        "outputId": "4ecc3636-0f92-4fb9-8d8e-9b113e4922c6"
      },
      "outputs": [
        {
          "name": "stdout",
          "output_type": "stream",
          "text": [
            "Fitting 3 folds for each of 5 candidates, totalling 15 fits\n"
          ]
        },
        {
          "name": "stderr",
          "output_type": "stream",
          "text": [
            "<ipython-input-21-71aa891ea6bf>:24: SettingWithCopyWarning: \n",
            "A value is trying to be set on a copy of a slice from a DataFrame.\n",
            "Try using .loc[row_indexer,col_indexer] = value instead\n",
            "\n",
            "See the caveats in the documentation: https://pandas.pydata.org/pandas-docs/stable/user_guide/indexing.html#returning-a-view-versus-a-copy\n",
            "  df_squad['Predicted_winPlacePerc'] = best_ridge.predict(X)\n"
          ]
        },
        {
          "data": {
            "text/html": [
              "<div>\n",
              "<style scoped>\n",
              "    .dataframe tbody tr th:only-of-type {\n",
              "        vertical-align: middle;\n",
              "    }\n",
              "\n",
              "    .dataframe tbody tr th {\n",
              "        vertical-align: top;\n",
              "    }\n",
              "\n",
              "    .dataframe thead th {\n",
              "        text-align: right;\n",
              "    }\n",
              "</style>\n",
              "<table border=\"1\" class=\"dataframe\">\n",
              "  <thead>\n",
              "    <tr style=\"text-align: right;\">\n",
              "      <th></th>\n",
              "      <th>MSE</th>\n",
              "      <th>MAE</th>\n",
              "      <th>RMSE</th>\n",
              "      <th>R-squared</th>\n",
              "      <th>Adjusted R-squared</th>\n",
              "      <th>Best Params</th>\n",
              "      <th>Execution Time (s)</th>\n",
              "    </tr>\n",
              "  </thead>\n",
              "  <tbody>\n",
              "    <tr>\n",
              "      <th>0</th>\n",
              "      <td>0.01807</td>\n",
              "      <td>0.100491</td>\n",
              "      <td>0.134426</td>\n",
              "      <td>0.794241</td>\n",
              "      <td>0.794226</td>\n",
              "      <td>{'alpha': 0.01}</td>\n",
              "      <td>3.545799</td>\n",
              "    </tr>\n",
              "  </tbody>\n",
              "</table>\n",
              "</div>"
            ],
            "text/plain": [
              "       MSE       MAE      RMSE  R-squared  Adjusted R-squared  \\\n",
              "0  0.01807  0.100491  0.134426   0.794241            0.794226   \n",
              "\n",
              "       Best Params  Execution Time (s)  \n",
              "0  {'alpha': 0.01}            3.545799  "
            ]
          },
          "execution_count": 21,
          "metadata": {},
          "output_type": "execute_result"
        }
      ],
      "source": [
        "# 리지 회귀 모델 설정 및 하이퍼파라미터 그리드 서치\n",
        "ridge = Ridge(random_state=42)\n",
        "parameters = {\n",
        "    'alpha': [0.01, 0.1, 1, 10, 100]  # 리지 회귀의 규제 강도 하이퍼파라미터\n",
        "}\n",
        "\n",
        "# 코드 실행 시간 측정 시작\n",
        "start_time = time.time()\n",
        "\n",
        "grid_search = GridSearchCV(ridge, parameters, cv=3, scoring='neg_mean_squared_error', n_jobs=-1, verbose=2)\n",
        "grid_search.fit(X_train, y_train)\n",
        "\n",
        "best_ridge = grid_search.best_estimator_\n",
        "\n",
        "# 전체 데이터에 대해 예측 수행\n",
        "df_squad['Predicted_winPlacePerc'] = best_ridge.predict(X)\n",
        "\n",
        "# 성능 지표 계산\n",
        "y_pred = best_ridge.predict(X_test)\n",
        "mse = mean_squared_error(y_test, y_pred)\n",
        "mae = mean_absolute_error(y_test, y_pred)\n",
        "rmse = mean_squared_error(y_test, y_pred, squared=False)\n",
        "r2 = r2_score(y_test, y_pred)\n",
        "adj_r2 = 1 - (1-r2) * (len(y_test) - 1) / (len(y_test) - X_test.shape[1] - 1)\n",
        "\n",
        "# 코드 실행 시간 측정 종료\n",
        "end_time = time.time()\n",
        "execution_time = end_time - start_time\n",
        "\n",
        "results_squad_ridge = {\n",
        "    'MSE': mse,\n",
        "    'MAE': mae,\n",
        "    'RMSE': rmse,\n",
        "    'R-squared': r2,\n",
        "    'Adjusted R-squared': adj_r2,\n",
        "    'Best Params': grid_search.best_params_,\n",
        "    'Execution Time (s)': execution_time\n",
        "}\n",
        "\n",
        "# 결과 출력\n",
        "results_squad_ridge_df = pd.DataFrame([results_squad_ridge])\n",
        "results_squad_ridge_df"
      ]
    },
    {
      "cell_type": "code",
      "execution_count": null,
      "id": "f0580b71",
      "metadata": {
        "id": "f0580b71",
        "outputId": "31c760b7-a8f0-4ca5-f334-ceeaf8bdc332"
      },
      "outputs": [
        {
          "name": "stdout",
          "output_type": "stream",
          "text": [
            "Fitting 3 folds for each of 72 candidates, totalling 216 fits\n"
          ]
        },
        {
          "name": "stderr",
          "output_type": "stream",
          "text": [
            "<ipython-input-22-38050a397c61>:27: SettingWithCopyWarning: \n",
            "A value is trying to be set on a copy of a slice from a DataFrame.\n",
            "Try using .loc[row_indexer,col_indexer] = value instead\n",
            "\n",
            "See the caveats in the documentation: https://pandas.pydata.org/pandas-docs/stable/user_guide/indexing.html#returning-a-view-versus-a-copy\n",
            "  df_squad['Predicted_winPlacePerc'] = best_xgb.predict(X)\n"
          ]
        },
        {
          "data": {
            "text/html": [
              "<div>\n",
              "<style scoped>\n",
              "    .dataframe tbody tr th:only-of-type {\n",
              "        vertical-align: middle;\n",
              "    }\n",
              "\n",
              "    .dataframe tbody tr th {\n",
              "        vertical-align: top;\n",
              "    }\n",
              "\n",
              "    .dataframe thead th {\n",
              "        text-align: right;\n",
              "    }\n",
              "</style>\n",
              "<table border=\"1\" class=\"dataframe\">\n",
              "  <thead>\n",
              "    <tr style=\"text-align: right;\">\n",
              "      <th></th>\n",
              "      <th>MSE</th>\n",
              "      <th>MAE</th>\n",
              "      <th>RMSE</th>\n",
              "      <th>R-squared</th>\n",
              "      <th>Adjusted R-squared</th>\n",
              "      <th>Best Params</th>\n",
              "      <th>Execution Time (s)</th>\n",
              "    </tr>\n",
              "  </thead>\n",
              "  <tbody>\n",
              "    <tr>\n",
              "      <th>0</th>\n",
              "      <td>0.007904</td>\n",
              "      <td>0.066383</td>\n",
              "      <td>0.088903</td>\n",
              "      <td>0.910004</td>\n",
              "      <td>0.909997</td>\n",
              "      <td>{'colsample_bytree': 1.0, 'learning_rate': 0.2...</td>\n",
              "      <td>8463.958462</td>\n",
              "    </tr>\n",
              "  </tbody>\n",
              "</table>\n",
              "</div>"
            ],
            "text/plain": [
              "        MSE       MAE      RMSE  R-squared  Adjusted R-squared  \\\n",
              "0  0.007904  0.066383  0.088903   0.910004            0.909997   \n",
              "\n",
              "                                         Best Params  Execution Time (s)  \n",
              "0  {'colsample_bytree': 1.0, 'learning_rate': 0.2...         8463.958462  "
            ]
          },
          "execution_count": 22,
          "metadata": {},
          "output_type": "execute_result"
        }
      ],
      "source": [
        "xg_reg = xgb.XGBRegressor(objective='reg:squarederror', random_state=42)\n",
        "parameters = {\n",
        "    'n_estimators': [100, 200],\n",
        "    'max_depth': [10, 20, None],\n",
        "    'learning_rate': [0.01, 0.1, 0.2],\n",
        "    'subsample': [0.8, 1.0],\n",
        "    'colsample_bytree': [0.8, 1.0]\n",
        "}\n",
        "\n",
        "# 코드 실행 시간 측정 시작\n",
        "start_time = time.time()\n",
        "\n",
        "grid_search = GridSearchCV(xg_reg, parameters, cv=3, scoring='neg_mean_squared_error', n_jobs=-1, verbose=2)\n",
        "grid_search.fit(X_train, y_train)\n",
        "\n",
        "best_xgb = grid_search.best_estimator_\n",
        "\n",
        "# 전체 데이터에 대해 예측 수행\n",
        "df_squad['Predicted_winPlacePerc'] = best_xgb.predict(X)\n",
        "\n",
        "# 성능 지표 계산\n",
        "y_pred = best_xgb.predict(X_test)\n",
        "mse = mean_squared_error(y_test, y_pred)\n",
        "mae = mean_absolute_error(y_test, y_pred)\n",
        "rmse = mean_squared_error(y_test, y_pred, squared=False)\n",
        "r2 = r2_score(y_test, y_pred)\n",
        "adj_r2 = 1 - (1-r2) * (len(y_test) - 1) / (len(y_test) - X_test.shape[1] - 1)\n",
        "\n",
        "# 코드 실행 시간 측정 종료\n",
        "end_time = time.time()\n",
        "execution_time = end_time - start_time\n",
        "\n",
        "results_squad_xgb = {\n",
        "    'MSE': mse,\n",
        "    'MAE': mae,\n",
        "    'RMSE': rmse,\n",
        "    'R-squared': r2,\n",
        "    'Adjusted R-squared': adj_r2,\n",
        "    'Best Params': grid_search.best_params_,\n",
        "    'Execution Time (s)': execution_time\n",
        "}\n",
        "\n",
        "# 결과 출력\n",
        "results_squad_xgb_df = pd.DataFrame([results_squad_xgb])\n",
        "results_squad_xgb_df"
      ]
    },
    {
      "cell_type": "code",
      "execution_count": null,
      "id": "351d44f3",
      "metadata": {
        "id": "351d44f3",
        "outputId": "48e739cf-4eac-49bf-acb1-ba664597f068"
      },
      "outputs": [
        {
          "name": "stdout",
          "output_type": "stream",
          "text": [
            "Fitting 3 folds for each of 72 candidates, totalling 216 fits\n"
          ]
        },
        {
          "name": "stderr",
          "output_type": "stream",
          "text": [
            "<ipython-input-23-b9d379fff0fd>:20: SettingWithCopyWarning: \n",
            "A value is trying to be set on a copy of a slice from a DataFrame.\n",
            "Try using .loc[row_indexer,col_indexer] = value instead\n",
            "\n",
            "See the caveats in the documentation: https://pandas.pydata.org/pandas-docs/stable/user_guide/indexing.html#returning-a-view-versus-a-copy\n",
            "  df_squad['Predicted_winPlacePerc'] = best_rf.predict(X)\n"
          ]
        },
        {
          "data": {
            "text/html": [
              "<div>\n",
              "<style scoped>\n",
              "    .dataframe tbody tr th:only-of-type {\n",
              "        vertical-align: middle;\n",
              "    }\n",
              "\n",
              "    .dataframe tbody tr th {\n",
              "        vertical-align: top;\n",
              "    }\n",
              "\n",
              "    .dataframe thead th {\n",
              "        text-align: right;\n",
              "    }\n",
              "</style>\n",
              "<table border=\"1\" class=\"dataframe\">\n",
              "  <thead>\n",
              "    <tr style=\"text-align: right;\">\n",
              "      <th></th>\n",
              "      <th>MSE</th>\n",
              "      <th>MAE</th>\n",
              "      <th>RMSE</th>\n",
              "      <th>R-squared</th>\n",
              "      <th>Adjusted R-squared</th>\n",
              "      <th>Best Params</th>\n",
              "      <th>Execution Time (s)</th>\n",
              "    </tr>\n",
              "  </thead>\n",
              "  <tbody>\n",
              "    <tr>\n",
              "      <th>0</th>\n",
              "      <td>0.008506</td>\n",
              "      <td>0.069178</td>\n",
              "      <td>0.092227</td>\n",
              "      <td>0.903148</td>\n",
              "      <td>0.903141</td>\n",
              "      <td>{'max_depth': 20, 'max_features': 'auto', 'min...</td>\n",
              "      <td>29218.651021</td>\n",
              "    </tr>\n",
              "  </tbody>\n",
              "</table>\n",
              "</div>"
            ],
            "text/plain": [
              "        MSE       MAE      RMSE  R-squared  Adjusted R-squared  \\\n",
              "0  0.008506  0.069178  0.092227   0.903148            0.903141   \n",
              "\n",
              "                                         Best Params  Execution Time (s)  \n",
              "0  {'max_depth': 20, 'max_features': 'auto', 'min...        29218.651021  "
            ]
          },
          "execution_count": 23,
          "metadata": {},
          "output_type": "execute_result"
        }
      ],
      "source": [
        "# Random Forest 회귀 모델 설정 및 하이퍼파라미터 그리드 서치\n",
        "rf = RandomForestRegressor(random_state=42)\n",
        "parameters = {\n",
        "    'n_estimators': [100, 200],\n",
        "    'max_depth': [10, 20, None],\n",
        "    'min_samples_split': [2, 5],\n",
        "    'min_samples_leaf': [1, 2, 4],\n",
        "    'max_features': ['auto', 'sqrt']\n",
        "}\n",
        "\n",
        "# 코드 실행 시간 측정 시작\n",
        "start_time = time.time()\n",
        "\n",
        "grid_search = GridSearchCV(rf, parameters, cv=3, scoring='neg_mean_squared_error', n_jobs=-1, verbose=2)\n",
        "grid_search.fit(X_train, y_train)\n",
        "\n",
        "best_rf = grid_search.best_estimator_\n",
        "\n",
        "# 전체 데이터에 대해 예측 수행\n",
        "df_squad['Predicted_winPlacePerc'] = best_rf.predict(X)\n",
        "\n",
        "# 성능 지표 계산\n",
        "y_pred = best_rf.predict(X_test)\n",
        "mse = mean_squared_error(y_test, y_pred)\n",
        "mae = mean_absolute_error(y_test, y_pred)\n",
        "rmse = mean_squared_error(y_test, y_pred, squared=False)\n",
        "r2 = r2_score(y_test, y_pred)\n",
        "adj_r2 = 1 - (1-r2) * (len(y_test) - 1) / (len(y_test) - X_test.shape[1] - 1)\n",
        "\n",
        "# 코드 실행 시간 측정 종료\n",
        "end_time = time.time()\n",
        "execution_time = end_time - start_time\n",
        "\n",
        "results_squad_rf = {\n",
        "    'MSE': mse,\n",
        "    'MAE': mae,\n",
        "    'RMSE': rmse,\n",
        "    'R-squared': r2,\n",
        "    'Adjusted R-squared': adj_r2,\n",
        "    'Best Params': grid_search.best_params_,\n",
        "    'Execution Time (s)': execution_time\n",
        "}\n",
        "\n",
        "# 결과 출력\n",
        "results_squad_rf_df = pd.DataFrame([results_squad_rf])\n",
        "results_squad_rf_df"
      ]
    },
    {
      "cell_type": "code",
      "execution_count": null,
      "id": "c3e24248",
      "metadata": {
        "id": "c3e24248",
        "outputId": "ab89f79e-18a3-4e00-9e31-bb00568acb9e"
      },
      "outputs": [
        {
          "data": {
            "text/html": [
              "<div>\n",
              "<style scoped>\n",
              "    .dataframe tbody tr th:only-of-type {\n",
              "        vertical-align: middle;\n",
              "    }\n",
              "\n",
              "    .dataframe tbody tr th {\n",
              "        vertical-align: top;\n",
              "    }\n",
              "\n",
              "    .dataframe thead th {\n",
              "        text-align: right;\n",
              "    }\n",
              "</style>\n",
              "<table border=\"1\" class=\"dataframe\">\n",
              "  <thead>\n",
              "    <tr style=\"text-align: right;\">\n",
              "      <th></th>\n",
              "      <th>MSE</th>\n",
              "      <th>MAE</th>\n",
              "      <th>RMSE</th>\n",
              "      <th>R-squared</th>\n",
              "      <th>Adjusted R-squared</th>\n",
              "      <th>Best Params</th>\n",
              "      <th>Execution Time (s)</th>\n",
              "    </tr>\n",
              "  </thead>\n",
              "  <tbody>\n",
              "    <tr>\n",
              "      <th>0</th>\n",
              "      <td>0.019541</td>\n",
              "      <td>0.104747</td>\n",
              "      <td>0.139788</td>\n",
              "      <td>0.777501</td>\n",
              "      <td>0.777485</td>\n",
              "      <td>{'alpha': 0.01}</td>\n",
              "      <td>23.274245</td>\n",
              "    </tr>\n",
              "  </tbody>\n",
              "</table>\n",
              "</div>"
            ],
            "text/plain": [
              "        MSE       MAE      RMSE  R-squared  Adjusted R-squared  \\\n",
              "0  0.019541  0.104747  0.139788   0.777501            0.777485   \n",
              "\n",
              "       Best Params  Execution Time (s)  \n",
              "0  {'alpha': 0.01}           23.274245  "
            ]
          },
          "execution_count": 25,
          "metadata": {},
          "output_type": "execute_result"
        }
      ],
      "source": [
        "pd.set_option('display.max_colwidth', None)\n",
        "results_squad_lasso_df"
      ]
    },
    {
      "cell_type": "code",
      "execution_count": null,
      "id": "c9c6f594",
      "metadata": {
        "id": "c9c6f594",
        "outputId": "4315a3a2-24d0-44a0-ade4-bfb4b9332b7d"
      },
      "outputs": [
        {
          "data": {
            "text/html": [
              "<div>\n",
              "<style scoped>\n",
              "    .dataframe tbody tr th:only-of-type {\n",
              "        vertical-align: middle;\n",
              "    }\n",
              "\n",
              "    .dataframe tbody tr th {\n",
              "        vertical-align: top;\n",
              "    }\n",
              "\n",
              "    .dataframe thead th {\n",
              "        text-align: right;\n",
              "    }\n",
              "</style>\n",
              "<table border=\"1\" class=\"dataframe\">\n",
              "  <thead>\n",
              "    <tr style=\"text-align: right;\">\n",
              "      <th></th>\n",
              "      <th>MSE</th>\n",
              "      <th>MAE</th>\n",
              "      <th>RMSE</th>\n",
              "      <th>R-squared</th>\n",
              "      <th>Adjusted R-squared</th>\n",
              "      <th>Best Params</th>\n",
              "      <th>Execution Time (s)</th>\n",
              "    </tr>\n",
              "  </thead>\n",
              "  <tbody>\n",
              "    <tr>\n",
              "      <th>0</th>\n",
              "      <td>0.01807</td>\n",
              "      <td>0.100491</td>\n",
              "      <td>0.134426</td>\n",
              "      <td>0.794241</td>\n",
              "      <td>0.794226</td>\n",
              "      <td>{'alpha': 0.01}</td>\n",
              "      <td>3.545799</td>\n",
              "    </tr>\n",
              "  </tbody>\n",
              "</table>\n",
              "</div>"
            ],
            "text/plain": [
              "       MSE       MAE      RMSE  R-squared  Adjusted R-squared  \\\n",
              "0  0.01807  0.100491  0.134426   0.794241            0.794226   \n",
              "\n",
              "       Best Params  Execution Time (s)  \n",
              "0  {'alpha': 0.01}            3.545799  "
            ]
          },
          "execution_count": 26,
          "metadata": {},
          "output_type": "execute_result"
        }
      ],
      "source": [
        "results_squad_ridge_df"
      ]
    },
    {
      "cell_type": "code",
      "execution_count": null,
      "id": "1dd1fe2d",
      "metadata": {
        "id": "1dd1fe2d",
        "outputId": "0c30519c-bab4-47ed-dcb7-6404273e3e47"
      },
      "outputs": [
        {
          "data": {
            "text/html": [
              "<div>\n",
              "<style scoped>\n",
              "    .dataframe tbody tr th:only-of-type {\n",
              "        vertical-align: middle;\n",
              "    }\n",
              "\n",
              "    .dataframe tbody tr th {\n",
              "        vertical-align: top;\n",
              "    }\n",
              "\n",
              "    .dataframe thead th {\n",
              "        text-align: right;\n",
              "    }\n",
              "</style>\n",
              "<table border=\"1\" class=\"dataframe\">\n",
              "  <thead>\n",
              "    <tr style=\"text-align: right;\">\n",
              "      <th></th>\n",
              "      <th>MSE</th>\n",
              "      <th>MAE</th>\n",
              "      <th>RMSE</th>\n",
              "      <th>R-squared</th>\n",
              "      <th>Adjusted R-squared</th>\n",
              "      <th>Best Params</th>\n",
              "      <th>Execution Time (s)</th>\n",
              "    </tr>\n",
              "  </thead>\n",
              "  <tbody>\n",
              "    <tr>\n",
              "      <th>0</th>\n",
              "      <td>0.007904</td>\n",
              "      <td>0.066383</td>\n",
              "      <td>0.088903</td>\n",
              "      <td>0.910004</td>\n",
              "      <td>0.909997</td>\n",
              "      <td>{'colsample_bytree': 1.0, 'learning_rate': 0.2, 'max_depth': 10, 'n_estimators': 200, 'subsample': 1.0}</td>\n",
              "      <td>8463.958462</td>\n",
              "    </tr>\n",
              "  </tbody>\n",
              "</table>\n",
              "</div>"
            ],
            "text/plain": [
              "        MSE       MAE      RMSE  R-squared  Adjusted R-squared  \\\n",
              "0  0.007904  0.066383  0.088903   0.910004            0.909997   \n",
              "\n",
              "                                                                                               Best Params  \\\n",
              "0  {'colsample_bytree': 1.0, 'learning_rate': 0.2, 'max_depth': 10, 'n_estimators': 200, 'subsample': 1.0}   \n",
              "\n",
              "   Execution Time (s)  \n",
              "0         8463.958462  "
            ]
          },
          "execution_count": 27,
          "metadata": {},
          "output_type": "execute_result"
        }
      ],
      "source": [
        "results_squad_xgb_df"
      ]
    },
    {
      "cell_type": "code",
      "execution_count": null,
      "id": "be845d74",
      "metadata": {
        "id": "be845d74",
        "outputId": "a1a10659-5309-4b34-d2d5-0c3693b18688"
      },
      "outputs": [
        {
          "data": {
            "text/html": [
              "<div>\n",
              "<style scoped>\n",
              "    .dataframe tbody tr th:only-of-type {\n",
              "        vertical-align: middle;\n",
              "    }\n",
              "\n",
              "    .dataframe tbody tr th {\n",
              "        vertical-align: top;\n",
              "    }\n",
              "\n",
              "    .dataframe thead th {\n",
              "        text-align: right;\n",
              "    }\n",
              "</style>\n",
              "<table border=\"1\" class=\"dataframe\">\n",
              "  <thead>\n",
              "    <tr style=\"text-align: right;\">\n",
              "      <th></th>\n",
              "      <th>MSE</th>\n",
              "      <th>MAE</th>\n",
              "      <th>RMSE</th>\n",
              "      <th>R-squared</th>\n",
              "      <th>Adjusted R-squared</th>\n",
              "      <th>Best Params</th>\n",
              "      <th>Execution Time (s)</th>\n",
              "    </tr>\n",
              "  </thead>\n",
              "  <tbody>\n",
              "    <tr>\n",
              "      <th>0</th>\n",
              "      <td>0.008506</td>\n",
              "      <td>0.069178</td>\n",
              "      <td>0.092227</td>\n",
              "      <td>0.903148</td>\n",
              "      <td>0.903141</td>\n",
              "      <td>{'max_depth': 20, 'max_features': 'auto', 'min_samples_leaf': 4, 'min_samples_split': 2, 'n_estimators': 200}</td>\n",
              "      <td>29218.651021</td>\n",
              "    </tr>\n",
              "  </tbody>\n",
              "</table>\n",
              "</div>"
            ],
            "text/plain": [
              "        MSE       MAE      RMSE  R-squared  Adjusted R-squared  \\\n",
              "0  0.008506  0.069178  0.092227   0.903148            0.903141   \n",
              "\n",
              "                                                                                                     Best Params  \\\n",
              "0  {'max_depth': 20, 'max_features': 'auto', 'min_samples_leaf': 4, 'min_samples_split': 2, 'n_estimators': 200}   \n",
              "\n",
              "   Execution Time (s)  \n",
              "0        29218.651021  "
            ]
          },
          "execution_count": 28,
          "metadata": {},
          "output_type": "execute_result"
        }
      ],
      "source": [
        "results_squad_rf_df"
      ]
    },
    {
      "cell_type": "code",
      "execution_count": null,
      "id": "9f73ba43",
      "metadata": {
        "id": "9f73ba43",
        "outputId": "9cb55ef2-08bc-4453-958c-f7feadc49125"
      },
      "outputs": [
        {
          "data": {
            "text/html": [
              "<div>\n",
              "<style scoped>\n",
              "    .dataframe tbody tr th:only-of-type {\n",
              "        vertical-align: middle;\n",
              "    }\n",
              "\n",
              "    .dataframe tbody tr th {\n",
              "        vertical-align: top;\n",
              "    }\n",
              "\n",
              "    .dataframe thead th {\n",
              "        text-align: right;\n",
              "    }\n",
              "</style>\n",
              "<table border=\"1\" class=\"dataframe\">\n",
              "  <thead>\n",
              "    <tr style=\"text-align: right;\">\n",
              "      <th></th>\n",
              "      <th>MSE</th>\n",
              "      <th>MAE</th>\n",
              "      <th>RMSE</th>\n",
              "      <th>R-squared</th>\n",
              "      <th>Adjusted R-squared</th>\n",
              "      <th>Best Params</th>\n",
              "      <th>Execution Time (s)</th>\n",
              "    </tr>\n",
              "  </thead>\n",
              "  <tbody>\n",
              "    <tr>\n",
              "      <th>0</th>\n",
              "      <td>0.010832</td>\n",
              "      <td>0.079101</td>\n",
              "      <td>0.104078</td>\n",
              "      <td>0.872638</td>\n",
              "      <td>0.872615</td>\n",
              "      <td>{'alpha': 0.01}</td>\n",
              "      <td>11.324552</td>\n",
              "    </tr>\n",
              "  </tbody>\n",
              "</table>\n",
              "</div>"
            ],
            "text/plain": [
              "        MSE       MAE      RMSE  R-squared  Adjusted R-squared  \\\n",
              "0  0.010832  0.079101  0.104078   0.872638            0.872615   \n",
              "\n",
              "       Best Params  Execution Time (s)  \n",
              "0  {'alpha': 0.01}           11.324552  "
            ]
          },
          "execution_count": 29,
          "metadata": {},
          "output_type": "execute_result"
        }
      ],
      "source": [
        "results_solo_lasso_df"
      ]
    },
    {
      "cell_type": "code",
      "execution_count": null,
      "id": "d1444989",
      "metadata": {
        "id": "d1444989",
        "outputId": "b79d40ea-24d4-4ea5-c1c4-dc86cbb48bb0"
      },
      "outputs": [
        {
          "data": {
            "text/html": [
              "<div>\n",
              "<style scoped>\n",
              "    .dataframe tbody tr th:only-of-type {\n",
              "        vertical-align: middle;\n",
              "    }\n",
              "\n",
              "    .dataframe tbody tr th {\n",
              "        vertical-align: top;\n",
              "    }\n",
              "\n",
              "    .dataframe thead th {\n",
              "        text-align: right;\n",
              "    }\n",
              "</style>\n",
              "<table border=\"1\" class=\"dataframe\">\n",
              "  <thead>\n",
              "    <tr style=\"text-align: right;\">\n",
              "      <th></th>\n",
              "      <th>MSE</th>\n",
              "      <th>MAE</th>\n",
              "      <th>RMSE</th>\n",
              "      <th>R-squared</th>\n",
              "      <th>Adjusted R-squared</th>\n",
              "      <th>Best Params</th>\n",
              "      <th>Execution Time (s)</th>\n",
              "    </tr>\n",
              "  </thead>\n",
              "  <tbody>\n",
              "    <tr>\n",
              "      <th>0</th>\n",
              "      <td>0.008901</td>\n",
              "      <td>0.068443</td>\n",
              "      <td>0.094345</td>\n",
              "      <td>0.895346</td>\n",
              "      <td>0.895328</td>\n",
              "      <td>{'alpha': 0.1}</td>\n",
              "      <td>1.581356</td>\n",
              "    </tr>\n",
              "  </tbody>\n",
              "</table>\n",
              "</div>"
            ],
            "text/plain": [
              "        MSE       MAE      RMSE  R-squared  Adjusted R-squared  \\\n",
              "0  0.008901  0.068443  0.094345   0.895346            0.895328   \n",
              "\n",
              "      Best Params  Execution Time (s)  \n",
              "0  {'alpha': 0.1}            1.581356  "
            ]
          },
          "execution_count": 30,
          "metadata": {},
          "output_type": "execute_result"
        }
      ],
      "source": [
        "results_solo_ridge_df"
      ]
    },
    {
      "cell_type": "code",
      "execution_count": null,
      "id": "9cdcb132",
      "metadata": {
        "id": "9cdcb132",
        "outputId": "2e9ba3ce-3ac1-4ab5-c41f-ffd3964bec3d"
      },
      "outputs": [
        {
          "data": {
            "text/html": [
              "<div>\n",
              "<style scoped>\n",
              "    .dataframe tbody tr th:only-of-type {\n",
              "        vertical-align: middle;\n",
              "    }\n",
              "\n",
              "    .dataframe tbody tr th {\n",
              "        vertical-align: top;\n",
              "    }\n",
              "\n",
              "    .dataframe thead th {\n",
              "        text-align: right;\n",
              "    }\n",
              "</style>\n",
              "<table border=\"1\" class=\"dataframe\">\n",
              "  <thead>\n",
              "    <tr style=\"text-align: right;\">\n",
              "      <th></th>\n",
              "      <th>MSE</th>\n",
              "      <th>MAE</th>\n",
              "      <th>RMSE</th>\n",
              "      <th>R-squared</th>\n",
              "      <th>Adjusted R-squared</th>\n",
              "      <th>Best Params</th>\n",
              "      <th>Execution Time (s)</th>\n",
              "    </tr>\n",
              "  </thead>\n",
              "  <tbody>\n",
              "    <tr>\n",
              "      <th>0</th>\n",
              "      <td>0.003109</td>\n",
              "      <td>0.039795</td>\n",
              "      <td>0.055757</td>\n",
              "      <td>0.963447</td>\n",
              "      <td>0.963441</td>\n",
              "      <td>{'colsample_bytree': 0.8, 'learning_rate': 0.1, 'max_depth': 10, 'n_estimators': 200, 'subsample': 1.0}</td>\n",
              "      <td>4298.071512</td>\n",
              "    </tr>\n",
              "  </tbody>\n",
              "</table>\n",
              "</div>"
            ],
            "text/plain": [
              "        MSE       MAE      RMSE  R-squared  Adjusted R-squared  \\\n",
              "0  0.003109  0.039795  0.055757   0.963447            0.963441   \n",
              "\n",
              "                                                                                               Best Params  \\\n",
              "0  {'colsample_bytree': 0.8, 'learning_rate': 0.1, 'max_depth': 10, 'n_estimators': 200, 'subsample': 1.0}   \n",
              "\n",
              "   Execution Time (s)  \n",
              "0         4298.071512  "
            ]
          },
          "execution_count": 31,
          "metadata": {},
          "output_type": "execute_result"
        }
      ],
      "source": [
        "results_solo_xgb_df"
      ]
    },
    {
      "cell_type": "code",
      "execution_count": null,
      "id": "bbf0f1d6",
      "metadata": {
        "id": "bbf0f1d6",
        "outputId": "6121e723-6ec8-4284-f683-9fd5c8c95891"
      },
      "outputs": [
        {
          "data": {
            "text/html": [
              "<div>\n",
              "<style scoped>\n",
              "    .dataframe tbody tr th:only-of-type {\n",
              "        vertical-align: middle;\n",
              "    }\n",
              "\n",
              "    .dataframe tbody tr th {\n",
              "        vertical-align: top;\n",
              "    }\n",
              "\n",
              "    .dataframe thead th {\n",
              "        text-align: right;\n",
              "    }\n",
              "</style>\n",
              "<table border=\"1\" class=\"dataframe\">\n",
              "  <thead>\n",
              "    <tr style=\"text-align: right;\">\n",
              "      <th></th>\n",
              "      <th>MSE</th>\n",
              "      <th>MAE</th>\n",
              "      <th>RMSE</th>\n",
              "      <th>R-squared</th>\n",
              "      <th>Adjusted R-squared</th>\n",
              "      <th>Best Params</th>\n",
              "      <th>Execution Time (s)</th>\n",
              "    </tr>\n",
              "  </thead>\n",
              "  <tbody>\n",
              "    <tr>\n",
              "      <th>0</th>\n",
              "      <td>0.003449</td>\n",
              "      <td>0.04189</td>\n",
              "      <td>0.058726</td>\n",
              "      <td>0.959451</td>\n",
              "      <td>0.959444</td>\n",
              "      <td>{'max_depth': 20, 'max_features': 'auto', 'min_samples_leaf': 2, 'min_samples_split': 5, 'n_estimators': 200}</td>\n",
              "      <td>7576.780525</td>\n",
              "    </tr>\n",
              "  </tbody>\n",
              "</table>\n",
              "</div>"
            ],
            "text/plain": [
              "        MSE      MAE      RMSE  R-squared  Adjusted R-squared  \\\n",
              "0  0.003449  0.04189  0.058726   0.959451            0.959444   \n",
              "\n",
              "                                                                                                     Best Params  \\\n",
              "0  {'max_depth': 20, 'max_features': 'auto', 'min_samples_leaf': 2, 'min_samples_split': 5, 'n_estimators': 200}   \n",
              "\n",
              "   Execution Time (s)  \n",
              "0         7576.780525  "
            ]
          },
          "execution_count": 32,
          "metadata": {},
          "output_type": "execute_result"
        }
      ],
      "source": [
        "results_solo_rf_df"
      ]
    },
    {
      "cell_type": "code",
      "execution_count": null,
      "id": "f139e412",
      "metadata": {
        "id": "f139e412",
        "outputId": "42e2a0a0-bf2c-4663-ec96-d19c2fbf92b4"
      },
      "outputs": [
        {
          "data": {
            "text/html": [
              "<div>\n",
              "<style scoped>\n",
              "    .dataframe tbody tr th:only-of-type {\n",
              "        vertical-align: middle;\n",
              "    }\n",
              "\n",
              "    .dataframe tbody tr th {\n",
              "        vertical-align: top;\n",
              "    }\n",
              "\n",
              "    .dataframe thead th {\n",
              "        text-align: right;\n",
              "    }\n",
              "</style>\n",
              "<table border=\"1\" class=\"dataframe\">\n",
              "  <thead>\n",
              "    <tr style=\"text-align: right;\">\n",
              "      <th></th>\n",
              "      <th>MSE</th>\n",
              "      <th>MAE</th>\n",
              "      <th>RMSE</th>\n",
              "      <th>R-squared</th>\n",
              "      <th>Adjusted R-squared</th>\n",
              "      <th>Best Params</th>\n",
              "      <th>Execution Time (s)</th>\n",
              "    </tr>\n",
              "  </thead>\n",
              "  <tbody>\n",
              "    <tr>\n",
              "      <th>0</th>\n",
              "      <td>0.01297</td>\n",
              "      <td>0.085242</td>\n",
              "      <td>0.113886</td>\n",
              "      <td>0.849288</td>\n",
              "      <td>0.849272</td>\n",
              "      <td>{'alpha': 0.01}</td>\n",
              "      <td>19.648429</td>\n",
              "    </tr>\n",
              "  </tbody>\n",
              "</table>\n",
              "</div>"
            ],
            "text/plain": [
              "       MSE       MAE      RMSE  R-squared  Adjusted R-squared  \\\n",
              "0  0.01297  0.085242  0.113886   0.849288            0.849272   \n",
              "\n",
              "       Best Params  Execution Time (s)  \n",
              "0  {'alpha': 0.01}           19.648429  "
            ]
          },
          "execution_count": 33,
          "metadata": {},
          "output_type": "execute_result"
        }
      ],
      "source": [
        "results_duo_lasso_df"
      ]
    },
    {
      "cell_type": "code",
      "execution_count": null,
      "id": "50b03468",
      "metadata": {
        "id": "50b03468",
        "outputId": "aea366cd-851d-4157-fa1e-45eebb379daf"
      },
      "outputs": [
        {
          "data": {
            "text/html": [
              "<div>\n",
              "<style scoped>\n",
              "    .dataframe tbody tr th:only-of-type {\n",
              "        vertical-align: middle;\n",
              "    }\n",
              "\n",
              "    .dataframe tbody tr th {\n",
              "        vertical-align: top;\n",
              "    }\n",
              "\n",
              "    .dataframe thead th {\n",
              "        text-align: right;\n",
              "    }\n",
              "</style>\n",
              "<table border=\"1\" class=\"dataframe\">\n",
              "  <thead>\n",
              "    <tr style=\"text-align: right;\">\n",
              "      <th></th>\n",
              "      <th>MSE</th>\n",
              "      <th>MAE</th>\n",
              "      <th>RMSE</th>\n",
              "      <th>R-squared</th>\n",
              "      <th>Adjusted R-squared</th>\n",
              "      <th>Best Params</th>\n",
              "      <th>Execution Time (s)</th>\n",
              "    </tr>\n",
              "  </thead>\n",
              "  <tbody>\n",
              "    <tr>\n",
              "      <th>0</th>\n",
              "      <td>0.011573</td>\n",
              "      <td>0.079286</td>\n",
              "      <td>0.107577</td>\n",
              "      <td>0.865524</td>\n",
              "      <td>0.86551</td>\n",
              "      <td>{'alpha': 0.1}</td>\n",
              "      <td>8.25386</td>\n",
              "    </tr>\n",
              "  </tbody>\n",
              "</table>\n",
              "</div>"
            ],
            "text/plain": [
              "        MSE       MAE      RMSE  R-squared  Adjusted R-squared  \\\n",
              "0  0.011573  0.079286  0.107577   0.865524             0.86551   \n",
              "\n",
              "      Best Params  Execution Time (s)  \n",
              "0  {'alpha': 0.1}             8.25386  "
            ]
          },
          "execution_count": 34,
          "metadata": {},
          "output_type": "execute_result"
        }
      ],
      "source": [
        "results_duo_ridge_df"
      ]
    },
    {
      "cell_type": "code",
      "execution_count": null,
      "id": "653ad03d",
      "metadata": {
        "id": "653ad03d",
        "outputId": "f893337f-0d12-4bb5-bd27-0b7fdce5bc34"
      },
      "outputs": [
        {
          "data": {
            "text/html": [
              "<div>\n",
              "<style scoped>\n",
              "    .dataframe tbody tr th:only-of-type {\n",
              "        vertical-align: middle;\n",
              "    }\n",
              "\n",
              "    .dataframe tbody tr th {\n",
              "        vertical-align: top;\n",
              "    }\n",
              "\n",
              "    .dataframe thead th {\n",
              "        text-align: right;\n",
              "    }\n",
              "</style>\n",
              "<table border=\"1\" class=\"dataframe\">\n",
              "  <thead>\n",
              "    <tr style=\"text-align: right;\">\n",
              "      <th></th>\n",
              "      <th>MSE</th>\n",
              "      <th>MAE</th>\n",
              "      <th>RMSE</th>\n",
              "      <th>R-squared</th>\n",
              "      <th>Adjusted R-squared</th>\n",
              "      <th>Best Params</th>\n",
              "      <th>Execution Time (s)</th>\n",
              "    </tr>\n",
              "  </thead>\n",
              "  <tbody>\n",
              "    <tr>\n",
              "      <th>0</th>\n",
              "      <td>0.004501</td>\n",
              "      <td>0.04882</td>\n",
              "      <td>0.067092</td>\n",
              "      <td>0.947694</td>\n",
              "      <td>0.947689</td>\n",
              "      <td>{'colsample_bytree': 0.8, 'learning_rate': 0.2, 'max_depth': 10, 'n_estimators': 200, 'subsample': 1.0}</td>\n",
              "      <td>6214.540134</td>\n",
              "    </tr>\n",
              "  </tbody>\n",
              "</table>\n",
              "</div>"
            ],
            "text/plain": [
              "        MSE      MAE      RMSE  R-squared  Adjusted R-squared  \\\n",
              "0  0.004501  0.04882  0.067092   0.947694            0.947689   \n",
              "\n",
              "                                                                                               Best Params  \\\n",
              "0  {'colsample_bytree': 0.8, 'learning_rate': 0.2, 'max_depth': 10, 'n_estimators': 200, 'subsample': 1.0}   \n",
              "\n",
              "   Execution Time (s)  \n",
              "0         6214.540134  "
            ]
          },
          "execution_count": 35,
          "metadata": {},
          "output_type": "execute_result"
        }
      ],
      "source": [
        "results_duo_xgb_df"
      ]
    },
    {
      "cell_type": "code",
      "execution_count": null,
      "id": "3febbac9",
      "metadata": {
        "id": "3febbac9",
        "outputId": "2a6a3ebb-e29b-495e-88d5-0aa4c130f18f"
      },
      "outputs": [
        {
          "data": {
            "text/html": [
              "<div>\n",
              "<style scoped>\n",
              "    .dataframe tbody tr th:only-of-type {\n",
              "        vertical-align: middle;\n",
              "    }\n",
              "\n",
              "    .dataframe tbody tr th {\n",
              "        vertical-align: top;\n",
              "    }\n",
              "\n",
              "    .dataframe thead th {\n",
              "        text-align: right;\n",
              "    }\n",
              "</style>\n",
              "<table border=\"1\" class=\"dataframe\">\n",
              "  <thead>\n",
              "    <tr style=\"text-align: right;\">\n",
              "      <th></th>\n",
              "      <th>MSE</th>\n",
              "      <th>MAE</th>\n",
              "      <th>RMSE</th>\n",
              "      <th>R-squared</th>\n",
              "      <th>Adjusted R-squared</th>\n",
              "      <th>Best Params</th>\n",
              "      <th>Execution Time (s)</th>\n",
              "    </tr>\n",
              "  </thead>\n",
              "  <tbody>\n",
              "    <tr>\n",
              "      <th>0</th>\n",
              "      <td>0.004938</td>\n",
              "      <td>0.051292</td>\n",
              "      <td>0.07027</td>\n",
              "      <td>0.942622</td>\n",
              "      <td>0.942616</td>\n",
              "      <td>{'max_depth': 20, 'max_features': 'auto', 'min_samples_leaf': 4, 'min_samples_split': 2, 'n_estimators': 200}</td>\n",
              "      <td>16894.575011</td>\n",
              "    </tr>\n",
              "  </tbody>\n",
              "</table>\n",
              "</div>"
            ],
            "text/plain": [
              "        MSE       MAE     RMSE  R-squared  Adjusted R-squared  \\\n",
              "0  0.004938  0.051292  0.07027   0.942622            0.942616   \n",
              "\n",
              "                                                                                                     Best Params  \\\n",
              "0  {'max_depth': 20, 'max_features': 'auto', 'min_samples_leaf': 4, 'min_samples_split': 2, 'n_estimators': 200}   \n",
              "\n",
              "   Execution Time (s)  \n",
              "0        16894.575011  "
            ]
          },
          "execution_count": 36,
          "metadata": {},
          "output_type": "execute_result"
        }
      ],
      "source": [
        "results_duo_rf_df"
      ]
    },
    {
      "cell_type": "code",
      "execution_count": null,
      "id": "002e4ca6",
      "metadata": {
        "id": "002e4ca6"
      },
      "outputs": [],
      "source": []
    }
  ],
  "metadata": {
    "kernelspec": {
      "display_name": "Python 3",
      "language": "python",
      "name": "python3"
    },
    "language_info": {
      "codemirror_mode": {
        "name": "ipython",
        "version": 3
      },
      "file_extension": ".py",
      "mimetype": "text/x-python",
      "name": "python",
      "nbconvert_exporter": "python",
      "pygments_lexer": "ipython3",
      "version": "3.8.8"
    },
    "colab": {
      "provenance": [],
      "include_colab_link": true
    }
  },
  "nbformat": 4,
  "nbformat_minor": 5
}